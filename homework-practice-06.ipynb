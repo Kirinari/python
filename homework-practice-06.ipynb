{
 "cells": [
  {
   "cell_type": "code",
   "execution_count": 1,
   "metadata": {},
   "outputs": [],
   "source": [
    "import numpy as np\n",
    "import pandas as pd\n",
    "from matplotlib import pyplot as plt\n",
    "%matplotlib inline"
   ]
  },
  {
   "cell_type": "code",
   "execution_count": 2,
   "metadata": {},
   "outputs": [],
   "source": [
    "from sklearn.datasets import load_boston"
   ]
  },
  {
   "cell_type": "code",
   "execution_count": 3,
   "metadata": {},
   "outputs": [],
   "source": [
    "boston = load_boston()"
   ]
  },
  {
   "cell_type": "code",
   "execution_count": 4,
   "metadata": {},
   "outputs": [],
   "source": [
    "X = boston[\"data\"]\n",
    "y = boston[\"target\"]"
   ]
  },
  {
   "cell_type": "code",
   "execution_count": 5,
   "metadata": {},
   "outputs": [
    {
     "data": {
      "text/plain": [
       "((506, 13), (506,))"
      ]
     },
     "execution_count": 5,
     "metadata": {},
     "output_type": "execute_result"
    }
   ],
   "source": [
    "X.shape, y.shape"
   ]
  },
  {
   "cell_type": "markdown",
   "metadata": {},
   "source": [
    "### Вычисление bias и variance с помощью бутстрапа\n",
    "На лекции была выведено следующая формула, показывающая, как можно представить ошибку алгоритма регрессии в виде суммы трех компонент:\n",
    "$$\n",
    "L(\\mu) = \n",
    "    \\mathbb{E}_{x, y}\\bigl[\\mathbb{E}_{X}\\bigl[ (y - \\mu(X)(x))^2 \\bigr]\\bigr] = \n",
    "$$\n",
    "$$\n",
    "    \\underbrace{\\mathbb{E}_{x, y}\\bigl[(y - \\mathbb{E}[y|x] )^2\\bigr]}_{\\text{шум}} + \\underbrace{\\mathbb{E}_{x}\\bigl[(\\mathbb{E}_{X}[\\mu(X)(x)] - \\mathbb{E}[y|x] )^2\\bigr]}_{\\text{смещение}} +\n",
    "    \\underbrace{\\mathbb{E}_{x}\\bigl[\\mathbb{E}_{X}\\bigl[(\\mu(X)(x) - \\mathbb{E}_{X}[\\mu(X)(x)] )^2\\bigr]\\bigr]}_{\\text{разброс}},\n",
    "$$\n",
    "* $\\mu(X)$ — алгоритм, обученный по выборке $X = \\{(x_1, y_1), \\dots (x_\\ell, y_\\ell)\\}$;\n",
    "* $\\mu(X)(x)$ — ответ алгоритма, обученного по выборке $X$, на объекте $x$;\n",
    "* $\\mathbb{E}_{X}$ — мат. ожидание по всем возможным выборкам;\n",
    "* $\\mathbb{E}_{X}[\\mu(X)(x)]$ — \"средний\" ответ алгоритма, обученного по всем возможным выборкам $X$, на объекте $x$.\n",
    "    \n",
    "С помощью этой формулы мы можем анализировать свойства алгоритма обучения модели $\\mu$, если зададим вероятностную модель порождения пар $p(x, y)$.\n",
    "\n",
    "В реальных задачах мы, конечно же, не знаем распределение на парах объект - правильный ответ. Однако у нас есть набор семплов из этого распределения (обучающую выборка), и мы можем использовать его, чтобы оценивать математические ожидания. Для оценки мат. ожиданий по выборкам мы будем пользоваться бутстрэпом - методом генерации \"новых\" выборок из одной с помощью выбора объектов с возвращением. Разберем несколько шагов на пути к оценке смещения и разброса.\n",
    "\n",
    "#### Приближенное вычисление интегралов\n",
    "На занятиях мы разбирали примеры аналитического вычисления смещения и разброса нескольких алгоритмов обучения. Для большинства моделей данных и алгоритмов обучения аналитически рассчитать математические ожидания в формулах не удастся. Однако мат. ожидания можно оценивать приближенно. Чтобы оценить математическое ожидание $\\mathbb{E}_{\\bar z} f(\\bar z)$ функции от многомерной случайной величины $\\bar z = (z_1, \\dots, z_d)$, $\\bar z \\sim p(\\bar z)$, можно сгенерировать выборку из распределения $p(\\bar z)$ и усреднить значение функции на элементах этой выборки:\n",
    "$$\\mathbb{E}_{\\bar z} f(z) = \\int f(\\bar z) p(\\bar z) d \\bar z \\approx \\frac 1 m \\sum_{i=1}^m f(\\bar z_i), \\, \\bar z_i \\sim p(\\bar z), i = 1, \\dots, m.$$\n",
    "\n",
    "Например, оценим $\\mathbb{E}_z z^2,$ $z \\sim \\mathcal{N}(\\mu=5, \\sigma=3)$ (из теории вероятностей мы знаем, что\n",
    "$\\mathbb{E}_z z^2 = \\sigma^2 + \\mu^2 = 34$):"
   ]
  },
  {
   "cell_type": "code",
   "execution_count": 7,
   "metadata": {},
   "outputs": [
    {
     "data": {
      "text/plain": [
       "33.982238424867056"
      ]
     },
     "execution_count": 7,
     "metadata": {},
     "output_type": "execute_result"
    }
   ],
   "source": [
    "z = np.random.normal(loc=5, scale=3, size=1000)\n",
    "(z**2).mean()"
   ]
  },
  {
   "cell_type": "markdown",
   "metadata": {},
   "source": [
    "#### Оценивание $\\mathbb{E}_{x, y}$\n",
    "Оценить мат. ожидания по $x$ и по $x, y$, встречающиеся во всех трех компонентах разложения, несложно, потому что у нас есть выборка объектов из распределения данных $p(x, y)$:\n",
    "$$ \\mathbb{E}_{x} f(x) \\approx \\frac 1 N \\sum_{i=1}^N f(x_i), \\quad\n",
    "\\mathbb{E}_{x, y} f(x, y) \\approx \\frac 1 N \\sum_{i=1}^N f(x_i, y_i),$$\n",
    "где $N$ - число объектов в выборке, $\\{(x_i, y_i)\\}_{i=1}^N$ - сама выборка. \n",
    "\n",
    "#### Оценивание $\\mathbb{E}_X$ с помощью бутстрапа\n",
    "Чтобы оценить мат. ожидание по $X$, нам понадобится выборка из выборок:\n",
    "$$\\mathbb{E}_X f(X) \\approx \\frac 1 s \\sum_{j=1}^s f(X_j),$$\n",
    "где $X_j$ - $j$-я выборка. Чтобы их получить, мы можем воспользоваться бутстрапом - методом генерации выборок на основе выбора объектов с возвращением. Чтобы составить одну выборку, будем $N$ раз выбирать индекс объекта $i \\sim \\text{Uniform}(1 \\dots N)$ и добавлять $i$-ю пару (объект, целевая переменная) в выборку. В результате в каждой выборке могут появиться повторяющиеся объекты, а какие-то объекты могут вовсе не войти в некоторые выборки.\n",
    "\n",
    "#### Итоговый алгоритм оценки смещения и разброса алгоритма $a$\n",
    "1. Сгенерировать $s$ выборок $X_j$ методом бутстрапа.\n",
    "1. На каждой выборке $X_j$ обучить алгоритм $a_j$.\n",
    "1. Для каждой выборки $X_j$ определить множество объектов $T_j$, не вошедших в нее (out-of-bag). Вычислить предсказания алгоритма $a_j$ на объектах $T_j$. \n",
    "\n",
    "Поскольку у нас есть только один ответ для каждого объекта, мы будем считать шум равным 0, а $\\mathbb{E}[y|x]$ равным имеющемуся правильному ответу для объекта $x$. \n",
    "\n",
    "Итоговые оценки:\n",
    "* Смещение: для одного объекта - квадрат разности среднего предсказания и правильного ответа. Среднее предсказание берется только по тем алгоритмам $a_j$, для которых этот объект входил в out-of-bag выборку $T_j$. Для получения общего смещения выполнить усреденение смещений по объектам.\n",
    "* Разброс: для одного объекта - выборочная дисперсия предсказаний алгоритмов $a_j$, для которых этот объект входил в out-of-bag выборку $T_j$. Для получения общего разброса выполнить усреденение разбросов по объектам.\n",
    "* Ошибка $L$: усреднить квадраты разностей предсказания и правильного ответа по всем выполненным предсказаниям для всех объектов.\n",
    "\n",
    "В результате должно получиться, что ошибка приблизительно равна сумме смещения и разброса!\n",
    "\n",
    "Алгоритм также вкратце описан по [ссылке](https://web.engr.oregonstate.edu/~tgd/classes/534/slides/part9.pdf) (слайды 19-21).\n",
    "\n",
    "__1. (3 балла)__\n",
    "\n",
    "Реализуйте описанный алгоритм. Обратите внимание, что если объект не вошел ни в одну из out-of-bag выборок, учитывать его в вычислении итоговых величин не нужно. Как обычно, разрешается использовать только один цикл - по выборкам (от 0 до num_runs-1)."
   ]
  },
  {
   "cell_type": "code",
   "execution_count": 8,
   "metadata": {},
   "outputs": [],
   "source": [
    "def compute_biase_variance(regressor, X, y, num_runs=1000):\n",
    "    \"\"\"\n",
    "    :param regressor: sklearn estimator with fit(...) and predict(...) method\n",
    "    :param X: numpy-array representing training set ob objects, shape [n_obj, n_feat]\n",
    "    :param y: numpy-array representing target for training objects, shape [n_obj]\n",
    "    :param num_runs: int, number of samples (s in the description of the algorithm)\n",
    "    \n",
    "    :returns: bias (float), variance (float), error (float) \n",
    "    each value is computed using bootstrap\n",
    "    \"\"\"\n",
    "    ### your code here\n",
    "    \n",
    "    samples = [set(np.random.choice(X.shape[0], X.shape[0])) for i in range(num_runs)]\n",
    "    b = {i for i in range(X.shape[0])}\n",
    "    t_samples = [b.difference(a) for a in samples]\n",
    "\n",
    "    predictions = []\n",
    "\n",
    "    for i in range(num_runs):\n",
    "        X_train = X[list(samples[i])]\n",
    "        X_test = X[list(t_samples[i])]\n",
    "        y_train = y[list(samples[i])]\n",
    "    \n",
    "        regressor.fit(X_train, y_train)\n",
    "        predictions.append({list(t_samples[i])[j] : regressor.predict([X_test[j]])[0] for j in range(len(t_samples[i]))})\n",
    "    \n",
    "    bias = np.mean([(y[i] - np.mean([p[i] for p in predictions if i in p.keys()])) ** 2 for i in range(len(y))])\n",
    "    variance = np.mean([np.mean([(pb[i] - np.mean([p[i] for p in predictions if i in p.keys()])) ** 2 \n",
    "                                 for pb in predictions if i in pb.keys()]) for i in range(len(y))])\n",
    "    error = np.mean([np.mean([(y[i] - p[i]) ** 2 for p in predictions if i in p.keys()]) for i in range(len(y))])\n",
    "    \n",
    "    return bias, variance, error"
   ]
  },
  {
   "cell_type": "markdown",
   "metadata": {},
   "source": [
    "__2. (0 баллов)__\n",
    "\n",
    "Оцените смещение, разброс и ошибку для трех алгоритмов с гиперпараметрами по умолчанию: линейная регрессия, решающее дерево, случайный лес."
   ]
  },
  {
   "cell_type": "code",
   "execution_count": 10,
   "metadata": {
    "scrolled": true
   },
   "outputs": [
    {
     "name": "stdout",
     "output_type": "stream",
     "text": [
      "(23.75147302091916, 0.5943232534880332, 24.34579627440719)\n",
      "(10.461194917707713, 12.732734845597767, 23.19392976330548)\n"
     ]
    },
    {
     "name": "stderr",
     "output_type": "stream",
     "text": [
      "/home/alexey/anaconda3/lib/python3.7/site-packages/sklearn/ensemble/forest.py:245: FutureWarning: The default value of n_estimators will change from 10 in version 0.20 to 100 in 0.22.\n",
      "  \"10 in version 0.20 to 100 in 0.22.\", FutureWarning)\n"
     ]
    },
    {
     "name": "stdout",
     "output_type": "stream",
     "text": [
      "(11.063109499902616, 2.7426262581682366, 13.805735758070856)\n"
     ]
    }
   ],
   "source": [
    "### your code here\n",
    "from sklearn.linear_model import LinearRegression\n",
    "from sklearn.tree import DecisionTreeRegressor\n",
    "from sklearn.ensemble import RandomForestRegressor\n",
    "\n",
    "L = LinearRegression()\n",
    "D = DecisionTreeRegressor()\n",
    "R = RandomForestRegressor()\n",
    "\n",
    "for regressor in (L, D, R):\n",
    "    print(compute_biase_variance(regressor, X, y))"
   ]
  },
  {
   "cell_type": "markdown",
   "metadata": {},
   "source": [
    "__3. (1 балл)__\n",
    "Проанализируйте полученный результат. Согласуются ли полученные результаты с теми, что мы обсуждали на семинарах (с комментарием)?\n",
    "\n",
    "__Your answer here:__ \n",
    "\n",
    "Во-первых, сумма смещения и дисперсии действительно равна ошибке на каждом алгоритме, что подтверждает правильность вычислений. Как и ожидалось, линейная регрессия имеет маленькое отклонение, поскольку алгоритм не чувствителен к незначительным изменениям выборки, однако сложные зависимости восстанавливаются трудно, а потому смещение велико. С деревьями ситуация иная. Они могут восстановить сложные зависимости, но очень быстро переобучаются. А потому смещение меньше, но отклонение гораздо больше. Наконец, случайные леса помогат уменьшить дисперсию деревьев, не измения при этом смещение. Отдельно стоит отметить, что все три алгоритма имеют похожую ошибку\n",
    "\n",
    "__3. (1 балл)__\n",
    "Вспомните обсуждение с лекции о том, во сколько раз в теории бутстрап уменьшает разброс базового алгоритма. Выполняется ли это в ваших экспериментах? Если нет, поясните, почему.\n",
    "\n",
    "\n",
    "\n",
    "__Your answer here:__ Бутстрап уменьшает разброс базового алгоритма в *N* раз, однако у нас этого не наблюдается. Сказывается корелляция в данных, предположений о которой мы не делали"
   ]
  },
  {
   "cell_type": "markdown",
   "metadata": {},
   "source": [
    "### Визуализация предсказаний базовых алгоритмов бэггинга\n",
    "\n",
    "В материалах лекций можно найти изображение, похожее на мишень - визуализация алгоритмов с разным смещением и разным разбросом. В центре \"мишени\" - правильный ответ, а \"попадания\" - предсказания алгоритмов, обученных по разным выборкам. Построим похожее изображение на наших данных для трех алгоритмов. Наши \"мишени\" будут одномерными, потому что мы решаем задачу одномерной регрессии.\n",
    "\n",
    "__4. (2 балла)__\n",
    "\n",
    "Реализуйте фукнцию plot_predictions. Она должна выполнять следующие действия:\n",
    "1. Случайно выбрать num_test_objects пар объект-целевая переменная из выборки X, y. Получится две выборки: маленькая X_test, y_test (выбранные тестовые объекты) и X_train, y_train (остальные объекты).\n",
    "1. Сгенерировать num_runs выборок методом бутстарапа из X_train, y_train. На каждой выборке обучить алгоритм regressor и сделать предсказания для X_test.\n",
    "1. Нарисовать scatter-график. По оси абсцисс - объекты тестовой выборки (номера от 0 до num_test_objects-1), по оси ординат - предсказания. В итоге получится num_test_objects столбиков с точками. Для каждого тестового объекта надо отметить одним цветом все предсказания для него, а также черным цветом отметить правильный ответ.\n",
    "1. Подпишите оси и название графика (аргумент title)."
   ]
  },
  {
   "cell_type": "code",
   "execution_count": 246,
   "metadata": {},
   "outputs": [],
   "source": [
    "from sklearn.model_selection import train_test_split\n",
    "\n",
    "def plot_predictions(regressor, X, y, num_runs=100, num_test_objects=10, title=\"\"):\n",
    "    \"\"\"\n",
    "    plot graphics described above\n",
    "    \"\"\"\n",
    "    X_train, X_test, y_train, y_test = train_test_split(X, y, test_size = num_test_objects)\n",
    "\n",
    "    samples = [set(np.random.choice(X_train.shape[0], X_train.shape[0])) for i in range(num_runs)]\n",
    "    b = {i for i in range(X_train.shape[0])}\n",
    "    t_samples = [b.difference(a) for a in samples]\n",
    "\n",
    "    predictions = []\n",
    "\n",
    "    for i in range(num_runs):\n",
    "        X_train_1 = X_train[list(samples[i])]\n",
    "        X_test_1 = X_train[list(t_samples[i])]\n",
    "        y_train_1 = y_train[list(samples[i])]\n",
    "    \n",
    "        regressor.fit(X_train_1, y_train_1)\n",
    "        predictions.append(regressor.predict(X_test))\n",
    "    plt.ylim(0, 55)\n",
    "    plt.scatter(list(range(num_test_objects)) * num_runs, np.array(predictions), c = 'red')\n",
    "    plt.scatter(np.arange(num_test_objects), y_test, c ='black')\n",
    "    plt.title(title)\n"
   ]
  },
  {
   "cell_type": "markdown",
   "metadata": {},
   "source": [
    "__5. (0 баллов)__\n",
    "\n",
    "Нарисуйте графики для линейной регрессии, решающего дерева и случайного леса. Нарисуйте три графика в строчку (это можно сделать с помощью plt.subplot) с одинаковой осью ординат (это важно для понимания масштаба разброса у разных алгоритмов):"
   ]
  },
  {
   "cell_type": "code",
   "execution_count": 247,
   "metadata": {
    "scrolled": true
   },
   "outputs": [
    {
     "name": "stderr",
     "output_type": "stream",
     "text": [
      "/home/alexey/anaconda3/lib/python3.7/site-packages/sklearn/ensemble/forest.py:245: FutureWarning: The default value of n_estimators will change from 10 in version 0.20 to 100 in 0.22.\n",
      "  \"10 in version 0.20 to 100 in 0.22.\", FutureWarning)\n"
     ]
    },
    {
     "data": {
      "image/png": "[encoded data removed]",
      "text/plain": [
       "<Figure size 1440x576 with 3 Axes>"
      ]
     },
     "metadata": {
      "needs_background": "light"
     },
     "output_type": "display_data"
    }
   ],
   "source": [
    "L = LinearRegression()\n",
    "D = DecisionTreeRegressor()\n",
    "R = RandomForestRegressor()\n",
    "\n",
    "\n",
    "fig = plt.figure(figsize=(20, 8))\n",
    "plt.subplot(131)\n",
    "plot_predictions(L, X, y, title = 'LinearRegression')\n",
    "plt.subplot(132)\n",
    "plot_predictions(D, X, y, title = 'DecisionTreeRegressor')\n",
    "plt.subplot(133)\n",
    "plot_predictions(R, X, y, title = 'RandomForestRegressor')"
   ]
  },
  {
   "cell_type": "markdown",
   "metadata": {},
   "source": [
    "__6. (1 балл)__\n",
    "\n",
    "Для каждого графика прокомментируйте, как он характеризует смещение и разброс соответствующего алгоритма. \n",
    "\n",
    "__Your answer here:__ По графику видно, что предсказания линейной регрессии почти не имеют разброса, они распологаются сосредоточенно. Но предсказания могут сильно отставать от истинного, что и показывает большое смещение и маленькую дисперсию линейной регрессии.\n",
    "\n",
    "Решающее дерево наоборот. Истинный ответ всегда попадает в область предсказания, однако область имеет большой разброс, что характеризует решающее дерево как алгоритм с меньшим смещением, но большой дисперсией. \n",
    "\n",
    "Наконец, случайный лес \"наследует\" небольшое смещение решающих деревьев, при этом уменьшая дисперсию. По графику видно, что предсказания сосредоточены около истинных ответов."
   ]
  },
  {
   "cell_type": "markdown",
   "metadata": {},
   "source": [
    "### Изменение bias и variance при изменении гиперпараметров"
   ]
  },
  {
   "cell_type": "markdown",
   "metadata": {},
   "source": [
    "__7. (0 баллов)__\n",
    "\n",
    "Постройте графики зависимости смещения и разброса от гиперпараметров решающего дерева max_depth (от 1 до 10) и max_features (от 1 до X.shape[1]):"
   ]
  },
  {
   "cell_type": "code",
   "execution_count": 237,
   "metadata": {
    "scrolled": false
   },
   "outputs": [
    {
     "data": {
      "image/png": "[encoded data removed]",
      "text/plain": [
       "<Figure size 1080x360 with 2 Axes>"
      ]
     },
     "metadata": {
      "needs_background": "light"
     },
     "output_type": "display_data"
    }
   ],
   "source": [
    "bias = []\n",
    "variance = []\n",
    "for max_depth in range(1, 11):\n",
    "    D = DecisionTreeRegressor(max_depth=max_depth)\n",
    "    b, v, _ = compute_biase_variance(D, X, y)\n",
    "    bias.append(b)\n",
    "    variance.append(v)\n",
    "\n",
    "fig, ax = plt.subplots(1, 2, figsize = (15, 5))\n",
    "ax[0].plot(np.arange(1, 11), bias, label = \"bias\")\n",
    "ax[0].plot(np.arange(1, 11), variance, label = \"variance\")\n",
    "ax[0].set_xlabel(\"max_depth\")\n",
    "ax[0].legend()\n",
    "ax[0].set_title(\"DecisionTreeRegressor\")\n",
    "\n",
    "bias = []\n",
    "variance = []\n",
    "for max_features in range(1, X.shape[1] + 1):\n",
    "    D = DecisionTreeRegressor(max_features=max_features)\n",
    "    b, v, _ = compute_biase_variance(D, X, y)\n",
    "    bias.append(b)\n",
    "    variance.append(v)\n",
    "\n",
    "ax[1].plot(np.arange(1, X.shape[1] + 1), bias, label = \"bias\" )\n",
    "ax[1].plot(np.arange(1, X.shape[1] + 1), variance, label = \"variance\")\n",
    "ax[1].set_xlabel(\"max_features\")\n",
    "ax[1].set_title(\"DecisionTreeRegressor\")\n",
    "ax[1].legend()\n",
    "\n",
    "plt.show()\n"
   ]
  },
  {
   "cell_type": "markdown",
   "metadata": {},
   "source": [
    "__8. (0 баллов)__\n",
    "\n",
    "Постройте графики зависимости смещения и разброса от n_estimators (по сетке 2**np.arange(1, 10)) для случайного леса и градиентного бустинга:"
   ]
  },
  {
   "cell_type": "code",
   "execution_count": null,
   "metadata": {},
   "outputs": [],
   "source": [
    "from sklearn.ensemble import GradientBoostingRegressor\n",
    "\n",
    "bias_r = []\n",
    "variance_r = []\n",
    "bias_gb = []\n",
    "variance_gb = []\n",
    "for n_estimators in 2**np.arange(1, 9):\n",
    "    R = RandomForestRegressor(n_estimators = n_estimators)\n",
    "    GB = GradientBoostingRegressor(n_estimators = n_estimators)\n",
    "    b, v, _ = compute_biase_variance(R, X, y)\n",
    "    bias_r.append(b)\n",
    "    variance_r.append(v)\n",
    "    \n",
    "    b, v, _ = compute_biase_variance(GB, X, y)\n",
    "    bias_gb.append(b)\n",
    "    variance_gb.append(v)\n",
    "        "
   ]
  },
  {
   "cell_type": "code",
   "execution_count": 240,
   "metadata": {},
   "outputs": [
    {
     "data": {
      "image/png": "[encoded data removed]",
      "text/plain": [
       "<Figure size 1080x360 with 2 Axes>"
      ]
     },
     "metadata": {
      "needs_background": "light"
     },
     "output_type": "display_data"
    }
   ],
   "source": [
    "fig, ax = plt.subplots(1, 2, figsize = (15, 5))\n",
    "\n",
    "ax[1].plot(2**np.arange(1, 9), bias_gb,  label = 'bias')\n",
    "ax[1].plot(2**np.arange(1, 9), variance_gb, label = 'variance')\n",
    "ax[1].set_xlabel(\"n_estimators\")\n",
    "ax[1].set_title(\"GradientBoostingRegressor\")\n",
    "ax[1].legend()\n",
    "\n",
    "ax[0].plot(2**np.arange(1, 9), bias_r, label = 'bias')\n",
    "ax[0].plot(2**np.arange(1, 9), variance_r, label = 'variance')\n",
    "ax[0].set_xlabel(\"n_estimators\")\n",
    "ax[0].set_title(\"RandomForestRegressor\")\n",
    "ax[0].legend()\n",
    "\n",
    "plt.show()\n"
   ]
  },
  {
   "cell_type": "markdown",
   "metadata": {},
   "source": [
    "__3. (2 балла)__\n",
    "\n",
    "Прокомментируйте графики (всего 4 графика): почему они имеют такой вид.\n",
    "\n",
    "__Your answer here:__ \n",
    "\n",
    "1) Посмотрим на график для решающего дерева. Когда максимальная глубина маленька- дерево недообучается, что характеризуется для любого алгоритма высоким смещением и низким отклонением. Далее мы попадаем в оптимальный алгоритм с невысоким смещением и небольшим отклонением. Но после этого дерево начинает переобучаться, симптомом чего обычно являются высокое отклонение и низкое смещение.\n",
    "\n",
    "Теперь посмотрим что происходит с алгоритмом при изменении количества признаков. Когда признаков мало - модель будет переобучаться на них, из-за чего смещение будет небольшим, зато отклонение будет огромным. Увеличивая количество признаков мы добьёмся улучшения эффетка, но ненадолго, поскольку в будущем алгоритм станет переобучаться опять. Возможно, что среди признаков имеются незначительные\n",
    "\n",
    "2) Как и ожидалось, смещение композиции  (случайный лус) не изменятся, а отклонение изменятся обратно пропорционально количеству алгоритмов\n",
    "\n",
    "На градиентном бустинге картина иная, поскольку каждый последующий алгоритм бустинга стремится уменьшить отклонение предсказаний от истинного ответа, поэтому уменьшается смещение. Отклонение остаётся тем же, поскольку градиентный бустинг не усредняет алгоритмы"
   ]
  }
 ],
 "metadata": {
  "kernelspec": {
   "display_name": "Python 3",
   "language": "python",
   "name": "python3"
  },
  "language_info": {
   "codemirror_mode": {
    "name": "ipython",
    "version": 3
   },
   "file_extension": ".py",
   "mimetype": "text/x-python",
   "name": "python",
   "nbconvert_exporter": "python",
   "pygments_lexer": "ipython3",
   "version": "3.7.1"
  },
  "toc": {
   "base_numbering": 1,
   "nav_menu": {},
   "number_sections": true,
   "sideBar": true,
   "skip_h1_title": true,
   "title_cell": "Table of Contents",
   "title_sidebar": "Contents",
   "toc_cell": false,
   "toc_position": {},
   "toc_section_display": true,
   "toc_window_display": false
  },
  "varInspector": {
   "cols": {
    "lenName": 16,
    "lenType": 16,
    "lenVar": 40
   },
   "kernels_config": {
    "python": {
     "delete_cmd_postfix": "",
     "delete_cmd_prefix": "del ",
     "library": "var_list.py",
     "varRefreshCmd": "print(var_dic_list())"
    },
    "r": {
     "delete_cmd_postfix": ") ",
     "delete_cmd_prefix": "rm(",
     "library": "var_list.r",
     "varRefreshCmd": "cat(var_dic_list()) "
    }
   },
   "types_to_exclude": [
    "module",
    "function",
    "builtin_function_or_method",
    "instance",
    "_Feature"
   ],
   "window_display": false
  }
 },
 "nbformat": 4,
 "nbformat_minor": 2
}
